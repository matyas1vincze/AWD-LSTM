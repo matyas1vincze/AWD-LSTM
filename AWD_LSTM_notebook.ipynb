{
 "nbformat": 4,
 "nbformat_minor": 0,
 "metadata": {
  "colab": {
   "name": "NLU_matyasvincze_229777.ipynb",
   "provenance": [],
   "collapsed_sections": [
    "ioySkYZfx7PA",
    "9zQbaNkLh3FN",
    "qA3L-WvsSHfi",
    "z9wEHvYcgnPO",
    "TxW3poQSyrQm",
    "eju446s56I1y",
    "PH3dQqwjiXP5",
    "mXCZzJmHkRFy"
   ]
  },
  "kernelspec": {
   "name": "python3",
   "display_name": "Python 3"
  },
  "accelerator": "GPU",
  "gpuClass": "standard",
  "widgets": {
   "application/vnd.jupyter.widget-state+json": {
    "4dff330a2d404f05855558bce815664d": {
     "model_module": "@jupyter-widgets/controls",
     "model_name": "HBoxModel",
     "model_module_version": "1.5.0",
     "state": {
      "_dom_classes": [],
      "_model_module": "@jupyter-widgets/controls",
      "_model_module_version": "1.5.0",
      "_model_name": "HBoxModel",
      "_view_count": null,
      "_view_module": "@jupyter-widgets/controls",
      "_view_module_version": "1.5.0",
      "_view_name": "HBoxView",
      "box_style": "",
      "children": [
       "IPY_MODEL_eb859afe621643eabd32bab5401e190c",
       "IPY_MODEL_b62ded36b5f7445b9d4b69d2db1ecc67",
       "IPY_MODEL_b47124388aa640b09ed8d9538a514639"
      ],
      "layout": "IPY_MODEL_8dd0af22fd2041f68b0e6db275bd7a50"
     }
    },
    "eb859afe621643eabd32bab5401e190c": {
     "model_module": "@jupyter-widgets/controls",
     "model_name": "HTMLModel",
     "model_module_version": "1.5.0",
     "state": {
      "_dom_classes": [],
      "_model_module": "@jupyter-widgets/controls",
      "_model_module_version": "1.5.0",
      "_model_name": "HTMLModel",
      "_view_count": null,
      "_view_module": "@jupyter-widgets/controls",
      "_view_module_version": "1.5.0",
      "_view_name": "HTMLView",
      "description": "",
      "description_tooltip": null,
      "layout": "IPY_MODEL_f2d894111c294ea3aefc81cadab1ebbe",
      "placeholder": "​",
      "style": "IPY_MODEL_4112c2ce642046558d7e56bec83a57db",
      "value": "epoch: 1: 100%"
     }
    },
    "b62ded36b5f7445b9d4b69d2db1ecc67": {
     "model_module": "@jupyter-widgets/controls",
     "model_name": "FloatProgressModel",
     "model_module_version": "1.5.0",
     "state": {
      "_dom_classes": [],
      "_model_module": "@jupyter-widgets/controls",
      "_model_module_version": "1.5.0",
      "_model_name": "FloatProgressModel",
      "_view_count": null,
      "_view_module": "@jupyter-widgets/controls",
      "_view_module_version": "1.5.0",
      "_view_name": "ProgressView",
      "bar_style": "success",
      "description": "",
      "description_tooltip": null,
      "layout": "IPY_MODEL_8ba5a1e1d3e34c04a4353b4a78d33915",
      "max": 664,
      "min": 0,
      "orientation": "horizontal",
      "style": "IPY_MODEL_68a69e511a0d43d4b0c3853eda60a019",
      "value": 664
     }
    },
    "b47124388aa640b09ed8d9538a514639": {
     "model_module": "@jupyter-widgets/controls",
     "model_name": "HTMLModel",
     "model_module_version": "1.5.0",
     "state": {
      "_dom_classes": [],
      "_model_module": "@jupyter-widgets/controls",
      "_model_module_version": "1.5.0",
      "_model_name": "HTMLModel",
      "_view_count": null,
      "_view_module": "@jupyter-widgets/controls",
      "_view_module_version": "1.5.0",
      "_view_name": "HTMLView",
      "description": "",
      "description_tooltip": null,
      "layout": "IPY_MODEL_83d6001aa20d4dc09e29f44234862c35",
      "placeholder": "​",
      "style": "IPY_MODEL_5c8872997ab747a39cc9859df6050016",
      "value": " 664/664 [01:23&lt;00:00,  8.05it/s, lr=30, loss=6.16, ppl=474]"
     }
    },
    "8dd0af22fd2041f68b0e6db275bd7a50": {
     "model_module": "@jupyter-widgets/base",
     "model_name": "LayoutModel",
     "model_module_version": "1.2.0",
     "state": {
      "_model_module": "@jupyter-widgets/base",
      "_model_module_version": "1.2.0",
      "_model_name": "LayoutModel",
      "_view_count": null,
      "_view_module": "@jupyter-widgets/base",
      "_view_module_version": "1.2.0",
      "_view_name": "LayoutView",
      "align_content": null,
      "align_items": null,
      "align_self": null,
      "border": null,
      "bottom": null,
      "display": null,
      "flex": null,
      "flex_flow": null,
      "grid_area": null,
      "grid_auto_columns": null,
      "grid_auto_flow": null,
      "grid_auto_rows": null,
      "grid_column": null,
      "grid_gap": null,
      "grid_row": null,
      "grid_template_areas": null,
      "grid_template_columns": null,
      "grid_template_rows": null,
      "height": null,
      "justify_content": null,
      "justify_items": null,
      "left": null,
      "margin": null,
      "max_height": null,
      "max_width": null,
      "min_height": null,
      "min_width": null,
      "object_fit": null,
      "object_position": null,
      "order": null,
      "overflow": null,
      "overflow_x": null,
      "overflow_y": null,
      "padding": null,
      "right": null,
      "top": null,
      "visibility": null,
      "width": null
     }
    },
    "f2d894111c294ea3aefc81cadab1ebbe": {
     "model_module": "@jupyter-widgets/base",
     "model_name": "LayoutModel",
     "model_module_version": "1.2.0",
     "state": {
      "_model_module": "@jupyter-widgets/base",
      "_model_module_version": "1.2.0",
      "_model_name": "LayoutModel",
      "_view_count": null,
      "_view_module": "@jupyter-widgets/base",
      "_view_module_version": "1.2.0",
      "_view_name": "LayoutView",
      "align_content": null,
      "align_items": null,
      "align_self": null,
      "border": null,
      "bottom": null,
      "display": null,
      "flex": null,
      "flex_flow": null,
      "grid_area": null,
      "grid_auto_columns": null,
      "grid_auto_flow": null,
      "grid_auto_rows": null,
      "grid_column": null,
      "grid_gap": null,
      "grid_row": null,
      "grid_template_areas": null,
      "grid_template_columns": null,
      "grid_template_rows": null,
      "height": null,
      "justify_content": null,
      "justify_items": null,
      "left": null,
      "margin": null,
      "max_height": null,
      "max_width": null,
      "min_height": null,
      "min_width": null,
      "object_fit": null,
      "object_position": null,
      "order": null,
      "overflow": null,
      "overflow_x": null,
      "overflow_y": null,
      "padding": null,
      "right": null,
      "top": null,
      "visibility": null,
      "width": null
     }
    },
    "4112c2ce642046558d7e56bec83a57db": {
     "model_module": "@jupyter-widgets/controls",
     "model_name": "DescriptionStyleModel",
     "model_module_version": "1.5.0",
     "state": {
      "_model_module": "@jupyter-widgets/controls",
      "_model_module_version": "1.5.0",
      "_model_name": "DescriptionStyleModel",
      "_view_count": null,
      "_view_module": "@jupyter-widgets/base",
      "_view_module_version": "1.2.0",
      "_view_name": "StyleView",
      "description_width": ""
     }
    },
    "8ba5a1e1d3e34c04a4353b4a78d33915": {
     "model_module": "@jupyter-widgets/base",
     "model_name": "LayoutModel",
     "model_module_version": "1.2.0",
     "state": {
      "_model_module": "@jupyter-widgets/base",
      "_model_module_version": "1.2.0",
      "_model_name": "LayoutModel",
      "_view_count": null,
      "_view_module": "@jupyter-widgets/base",
      "_view_module_version": "1.2.0",
      "_view_name": "LayoutView",
      "align_content": null,
      "align_items": null,
      "align_self": null,
      "border": null,
      "bottom": null,
      "display": null,
      "flex": null,
      "flex_flow": null,
      "grid_area": null,
      "grid_auto_columns": null,
      "grid_auto_flow": null,
      "grid_auto_rows": null,
      "grid_column": null,
      "grid_gap": null,
      "grid_row": null,
      "grid_template_areas": null,
      "grid_template_columns": null,
      "grid_template_rows": null,
      "height": null,
      "justify_content": null,
      "justify_items": null,
      "left": null,
      "margin": null,
      "max_height": null,
      "max_width": null,
      "min_height": null,
      "min_width": null,
      "object_fit": null,
      "object_position": null,
      "order": null,
      "overflow": null,
      "overflow_x": null,
      "overflow_y": null,
      "padding": null,
      "right": null,
      "top": null,
      "visibility": null,
      "width": null
     }
    },
    "68a69e511a0d43d4b0c3853eda60a019": {
     "model_module": "@jupyter-widgets/controls",
     "model_name": "ProgressStyleModel",
     "model_module_version": "1.5.0",
     "state": {
      "_model_module": "@jupyter-widgets/controls",
      "_model_module_version": "1.5.0",
      "_model_name": "ProgressStyleModel",
      "_view_count": null,
      "_view_module": "@jupyter-widgets/base",
      "_view_module_version": "1.2.0",
      "_view_name": "StyleView",
      "bar_color": null,
      "description_width": ""
     }
    },
    "83d6001aa20d4dc09e29f44234862c35": {
     "model_module": "@jupyter-widgets/base",
     "model_name": "LayoutModel",
     "model_module_version": "1.2.0",
     "state": {
      "_model_module": "@jupyter-widgets/base",
      "_model_module_version": "1.2.0",
      "_model_name": "LayoutModel",
      "_view_count": null,
      "_view_module": "@jupyter-widgets/base",
      "_view_module_version": "1.2.0",
      "_view_name": "LayoutView",
      "align_content": null,
      "align_items": null,
      "align_self": null,
      "border": null,
      "bottom": null,
      "display": null,
      "flex": null,
      "flex_flow": null,
      "grid_area": null,
      "grid_auto_columns": null,
      "grid_auto_flow": null,
      "grid_auto_rows": null,
      "grid_column": null,
      "grid_gap": null,
      "grid_row": null,
      "grid_template_areas": null,
      "grid_template_columns": null,
      "grid_template_rows": null,
      "height": null,
      "justify_content": null,
      "justify_items": null,
      "left": null,
      "margin": null,
      "max_height": null,
      "max_width": null,
      "min_height": null,
      "min_width": null,
      "object_fit": null,
      "object_position": null,
      "order": null,
      "overflow": null,
      "overflow_x": null,
      "overflow_y": null,
      "padding": null,
      "right": null,
      "top": null,
      "visibility": null,
      "width": null
     }
    },
    "5c8872997ab747a39cc9859df6050016": {
     "model_module": "@jupyter-widgets/controls",
     "model_name": "DescriptionStyleModel",
     "model_module_version": "1.5.0",
     "state": {
      "_model_module": "@jupyter-widgets/controls",
      "_model_module_version": "1.5.0",
      "_model_name": "DescriptionStyleModel",
      "_view_count": null,
      "_view_module": "@jupyter-widgets/base",
      "_view_module_version": "1.2.0",
      "_view_name": "StyleView",
      "description_width": ""
     }
    },
    "b890a946e49a4dde87b218b49ac37629": {
     "model_module": "@jupyter-widgets/controls",
     "model_name": "HBoxModel",
     "model_module_version": "1.5.0",
     "state": {
      "_dom_classes": [],
      "_model_module": "@jupyter-widgets/controls",
      "_model_module_version": "1.5.0",
      "_model_name": "HBoxModel",
      "_view_count": null,
      "_view_module": "@jupyter-widgets/controls",
      "_view_module_version": "1.5.0",
      "_view_name": "HBoxView",
      "box_style": "",
      "children": [
       "IPY_MODEL_d3993e6485ee4ceeaed695970a936497",
       "IPY_MODEL_097771cbefdb4f40adabe38b47e61428",
       "IPY_MODEL_89dd60969d454ed0b8415da213beddad"
      ],
      "layout": "IPY_MODEL_c804af3a50574ba39087bd5b69570cfb"
     }
    },
    "d3993e6485ee4ceeaed695970a936497": {
     "model_module": "@jupyter-widgets/controls",
     "model_name": "HTMLModel",
     "model_module_version": "1.5.0",
     "state": {
      "_dom_classes": [],
      "_model_module": "@jupyter-widgets/controls",
      "_model_module_version": "1.5.0",
      "_model_name": "HTMLModel",
      "_view_count": null,
      "_view_module": "@jupyter-widgets/controls",
      "_view_module_version": "1.5.0",
      "_view_name": "HTMLView",
      "description": "",
      "description_tooltip": null,
      "layout": "IPY_MODEL_f67b04efae6a4660ade88533a8a9e687",
      "placeholder": "​",
      "style": "IPY_MODEL_c98ecbdf78d843ae9aaf4927e9ea7536",
      "value": "valid evaluation: 100%"
     }
    },
    "097771cbefdb4f40adabe38b47e61428": {
     "model_module": "@jupyter-widgets/controls",
     "model_name": "FloatProgressModel",
     "model_module_version": "1.5.0",
     "state": {
      "_dom_classes": [],
      "_model_module": "@jupyter-widgets/controls",
      "_model_module_version": "1.5.0",
      "_model_name": "FloatProgressModel",
      "_view_count": null,
      "_view_module": "@jupyter-widgets/controls",
      "_view_module_version": "1.5.0",
      "_view_name": "ProgressView",
      "bar_style": "success",
      "description": "",
      "description_tooltip": null,
      "layout": "IPY_MODEL_ddaf66fb2bec4fc185f95bca8f52bb08",
      "max": 106,
      "min": 0,
      "orientation": "horizontal",
      "style": "IPY_MODEL_48ea3633c000480f9e60b96b1c867cbb",
      "value": 106
     }
    },
    "89dd60969d454ed0b8415da213beddad": {
     "model_module": "@jupyter-widgets/controls",
     "model_name": "HTMLModel",
     "model_module_version": "1.5.0",
     "state": {
      "_dom_classes": [],
      "_model_module": "@jupyter-widgets/controls",
      "_model_module_version": "1.5.0",
      "_model_name": "HTMLModel",
      "_view_count": null,
      "_view_module": "@jupyter-widgets/controls",
      "_view_module_version": "1.5.0",
      "_view_name": "HTMLView",
      "description": "",
      "description_tooltip": null,
      "layout": "IPY_MODEL_c45ff1de95c94d89bb03bb40ecd99d41",
      "placeholder": "​",
      "style": "IPY_MODEL_87e1c65675ed4aefbdabb97ac25072ef",
      "value": " 106/106 [00:02&lt;00:00, 53.28it/s, ppl=368]"
     }
    },
    "c804af3a50574ba39087bd5b69570cfb": {
     "model_module": "@jupyter-widgets/base",
     "model_name": "LayoutModel",
     "model_module_version": "1.2.0",
     "state": {
      "_model_module": "@jupyter-widgets/base",
      "_model_module_version": "1.2.0",
      "_model_name": "LayoutModel",
      "_view_count": null,
      "_view_module": "@jupyter-widgets/base",
      "_view_module_version": "1.2.0",
      "_view_name": "LayoutView",
      "align_content": null,
      "align_items": null,
      "align_self": null,
      "border": null,
      "bottom": null,
      "display": null,
      "flex": null,
      "flex_flow": null,
      "grid_area": null,
      "grid_auto_columns": null,
      "grid_auto_flow": null,
      "grid_auto_rows": null,
      "grid_column": null,
      "grid_gap": null,
      "grid_row": null,
      "grid_template_areas": null,
      "grid_template_columns": null,
      "grid_template_rows": null,
      "height": null,
      "justify_content": null,
      "justify_items": null,
      "left": null,
      "margin": null,
      "max_height": null,
      "max_width": null,
      "min_height": null,
      "min_width": null,
      "object_fit": null,
      "object_position": null,
      "order": null,
      "overflow": null,
      "overflow_x": null,
      "overflow_y": null,
      "padding": null,
      "right": null,
      "top": null,
      "visibility": null,
      "width": null
     }
    },
    "f67b04efae6a4660ade88533a8a9e687": {
     "model_module": "@jupyter-widgets/base",
     "model_name": "LayoutModel",
     "model_module_version": "1.2.0",
     "state": {
      "_model_module": "@jupyter-widgets/base",
      "_model_module_version": "1.2.0",
      "_model_name": "LayoutModel",
      "_view_count": null,
      "_view_module": "@jupyter-widgets/base",
      "_view_module_version": "1.2.0",
      "_view_name": "LayoutView",
      "align_content": null,
      "align_items": null,
      "align_self": null,
      "border": null,
      "bottom": null,
      "display": null,
      "flex": null,
      "flex_flow": null,
      "grid_area": null,
      "grid_auto_columns": null,
      "grid_auto_flow": null,
      "grid_auto_rows": null,
      "grid_column": null,
      "grid_gap": null,
      "grid_row": null,
      "grid_template_areas": null,
      "grid_template_columns": null,
      "grid_template_rows": null,
      "height": null,
      "justify_content": null,
      "justify_items": null,
      "left": null,
      "margin": null,
      "max_height": null,
      "max_width": null,
      "min_height": null,
      "min_width": null,
      "object_fit": null,
      "object_position": null,
      "order": null,
      "overflow": null,
      "overflow_x": null,
      "overflow_y": null,
      "padding": null,
      "right": null,
      "top": null,
      "visibility": null,
      "width": null
     }
    },
    "c98ecbdf78d843ae9aaf4927e9ea7536": {
     "model_module": "@jupyter-widgets/controls",
     "model_name": "DescriptionStyleModel",
     "model_module_version": "1.5.0",
     "state": {
      "_model_module": "@jupyter-widgets/controls",
      "_model_module_version": "1.5.0",
      "_model_name": "DescriptionStyleModel",
      "_view_count": null,
      "_view_module": "@jupyter-widgets/base",
      "_view_module_version": "1.2.0",
      "_view_name": "StyleView",
      "description_width": ""
     }
    },
    "ddaf66fb2bec4fc185f95bca8f52bb08": {
     "model_module": "@jupyter-widgets/base",
     "model_name": "LayoutModel",
     "model_module_version": "1.2.0",
     "state": {
      "_model_module": "@jupyter-widgets/base",
      "_model_module_version": "1.2.0",
      "_model_name": "LayoutModel",
      "_view_count": null,
      "_view_module": "@jupyter-widgets/base",
      "_view_module_version": "1.2.0",
      "_view_name": "LayoutView",
      "align_content": null,
      "align_items": null,
      "align_self": null,
      "border": null,
      "bottom": null,
      "display": null,
      "flex": null,
      "flex_flow": null,
      "grid_area": null,
      "grid_auto_columns": null,
      "grid_auto_flow": null,
      "grid_auto_rows": null,
      "grid_column": null,
      "grid_gap": null,
      "grid_row": null,
      "grid_template_areas": null,
      "grid_template_columns": null,
      "grid_template_rows": null,
      "height": null,
      "justify_content": null,
      "justify_items": null,
      "left": null,
      "margin": null,
      "max_height": null,
      "max_width": null,
      "min_height": null,
      "min_width": null,
      "object_fit": null,
      "object_position": null,
      "order": null,
      "overflow": null,
      "overflow_x": null,
      "overflow_y": null,
      "padding": null,
      "right": null,
      "top": null,
      "visibility": null,
      "width": null
     }
    },
    "48ea3633c000480f9e60b96b1c867cbb": {
     "model_module": "@jupyter-widgets/controls",
     "model_name": "ProgressStyleModel",
     "model_module_version": "1.5.0",
     "state": {
      "_model_module": "@jupyter-widgets/controls",
      "_model_module_version": "1.5.0",
      "_model_name": "ProgressStyleModel",
      "_view_count": null,
      "_view_module": "@jupyter-widgets/base",
      "_view_module_version": "1.2.0",
      "_view_name": "StyleView",
      "bar_color": null,
      "description_width": ""
     }
    },
    "c45ff1de95c94d89bb03bb40ecd99d41": {
     "model_module": "@jupyter-widgets/base",
     "model_name": "LayoutModel",
     "model_module_version": "1.2.0",
     "state": {
      "_model_module": "@jupyter-widgets/base",
      "_model_module_version": "1.2.0",
      "_model_name": "LayoutModel",
      "_view_count": null,
      "_view_module": "@jupyter-widgets/base",
      "_view_module_version": "1.2.0",
      "_view_name": "LayoutView",
      "align_content": null,
      "align_items": null,
      "align_self": null,
      "border": null,
      "bottom": null,
      "display": null,
      "flex": null,
      "flex_flow": null,
      "grid_area": null,
      "grid_auto_columns": null,
      "grid_auto_flow": null,
      "grid_auto_rows": null,
      "grid_column": null,
      "grid_gap": null,
      "grid_row": null,
      "grid_template_areas": null,
      "grid_template_columns": null,
      "grid_template_rows": null,
      "height": null,
      "justify_content": null,
      "justify_items": null,
      "left": null,
      "margin": null,
      "max_height": null,
      "max_width": null,
      "min_height": null,
      "min_width": null,
      "object_fit": null,
      "object_position": null,
      "order": null,
      "overflow": null,
      "overflow_x": null,
      "overflow_y": null,
      "padding": null,
      "right": null,
      "top": null,
      "visibility": null,
      "width": null
     }
    },
    "87e1c65675ed4aefbdabb97ac25072ef": {
     "model_module": "@jupyter-widgets/controls",
     "model_name": "DescriptionStyleModel",
     "model_module_version": "1.5.0",
     "state": {
      "_model_module": "@jupyter-widgets/controls",
      "_model_module_version": "1.5.0",
      "_model_name": "DescriptionStyleModel",
      "_view_count": null,
      "_view_module": "@jupyter-widgets/base",
      "_view_module_version": "1.2.0",
      "_view_name": "StyleView",
      "description_width": ""
     }
    },
    "becd6c9f78704352a4ba30afb4d08212": {
     "model_module": "@jupyter-widgets/controls",
     "model_name": "HBoxModel",
     "model_module_version": "1.5.0",
     "state": {
      "_dom_classes": [],
      "_model_module": "@jupyter-widgets/controls",
      "_model_module_version": "1.5.0",
      "_model_name": "HBoxModel",
      "_view_count": null,
      "_view_module": "@jupyter-widgets/controls",
      "_view_module_version": "1.5.0",
      "_view_name": "HBoxView",
      "box_style": "",
      "children": [
       "IPY_MODEL_4b6e09eac40944d7baf42f7c88e2abed",
       "IPY_MODEL_fad2e8a965734b249b7f585d277ce044",
       "IPY_MODEL_a32181c1b09d4a6b891148c3a31780b0"
      ],
      "layout": "IPY_MODEL_9baf45f27b754ff18c1d1c2192276ce4"
     }
    },
    "4b6e09eac40944d7baf42f7c88e2abed": {
     "model_module": "@jupyter-widgets/controls",
     "model_name": "HTMLModel",
     "model_module_version": "1.5.0",
     "state": {
      "_dom_classes": [],
      "_model_module": "@jupyter-widgets/controls",
      "_model_module_version": "1.5.0",
      "_model_name": "HTMLModel",
      "_view_count": null,
      "_view_module": "@jupyter-widgets/controls",
      "_view_module_version": "1.5.0",
      "_view_name": "HTMLView",
      "description": "",
      "description_tooltip": null,
      "layout": "IPY_MODEL_020fdfdcc1474b85a94f11a66623141c",
      "placeholder": "​",
      "style": "IPY_MODEL_03c62d6f169f4702b8bfe218de2e1fb5",
      "value": "epoch: 2: 100%"
     }
    },
    "fad2e8a965734b249b7f585d277ce044": {
     "model_module": "@jupyter-widgets/controls",
     "model_name": "FloatProgressModel",
     "model_module_version": "1.5.0",
     "state": {
      "_dom_classes": [],
      "_model_module": "@jupyter-widgets/controls",
      "_model_module_version": "1.5.0",
      "_model_name": "FloatProgressModel",
      "_view_count": null,
      "_view_module": "@jupyter-widgets/controls",
      "_view_module_version": "1.5.0",
      "_view_name": "ProgressView",
      "bar_style": "success",
      "description": "",
      "description_tooltip": null,
      "layout": "IPY_MODEL_b5d951436cf34555a29d8c9937e52bcc",
      "max": 664,
      "min": 0,
      "orientation": "horizontal",
      "style": "IPY_MODEL_8445a0e595a14333a3ac9fb160077af5",
      "value": 664
     }
    },
    "a32181c1b09d4a6b891148c3a31780b0": {
     "model_module": "@jupyter-widgets/controls",
     "model_name": "HTMLModel",
     "model_module_version": "1.5.0",
     "state": {
      "_dom_classes": [],
      "_model_module": "@jupyter-widgets/controls",
      "_model_module_version": "1.5.0",
      "_model_name": "HTMLModel",
      "_view_count": null,
      "_view_module": "@jupyter-widgets/controls",
      "_view_module_version": "1.5.0",
      "_view_name": "HTMLView",
      "description": "",
      "description_tooltip": null,
      "layout": "IPY_MODEL_299e123a39f140c9909601aae5f25664",
      "placeholder": "​",
      "style": "IPY_MODEL_0ca3d1fc28c249afa5b6aa4f54b843b9",
      "value": " 664/664 [01:23&lt;00:00,  8.08it/s, lr=30, loss=5.6, ppl=270]"
     }
    },
    "9baf45f27b754ff18c1d1c2192276ce4": {
     "model_module": "@jupyter-widgets/base",
     "model_name": "LayoutModel",
     "model_module_version": "1.2.0",
     "state": {
      "_model_module": "@jupyter-widgets/base",
      "_model_module_version": "1.2.0",
      "_model_name": "LayoutModel",
      "_view_count": null,
      "_view_module": "@jupyter-widgets/base",
      "_view_module_version": "1.2.0",
      "_view_name": "LayoutView",
      "align_content": null,
      "align_items": null,
      "align_self": null,
      "border": null,
      "bottom": null,
      "display": null,
      "flex": null,
      "flex_flow": null,
      "grid_area": null,
      "grid_auto_columns": null,
      "grid_auto_flow": null,
      "grid_auto_rows": null,
      "grid_column": null,
      "grid_gap": null,
      "grid_row": null,
      "grid_template_areas": null,
      "grid_template_columns": null,
      "grid_template_rows": null,
      "height": null,
      "justify_content": null,
      "justify_items": null,
      "left": null,
      "margin": null,
      "max_height": null,
      "max_width": null,
      "min_height": null,
      "min_width": null,
      "object_fit": null,
      "object_position": null,
      "order": null,
      "overflow": null,
      "overflow_x": null,
      "overflow_y": null,
      "padding": null,
      "right": null,
      "top": null,
      "visibility": null,
      "width": null
     }
    },
    "020fdfdcc1474b85a94f11a66623141c": {
     "model_module": "@jupyter-widgets/base",
     "model_name": "LayoutModel",
     "model_module_version": "1.2.0",
     "state": {
      "_model_module": "@jupyter-widgets/base",
      "_model_module_version": "1.2.0",
      "_model_name": "LayoutModel",
      "_view_count": null,
      "_view_module": "@jupyter-widgets/base",
      "_view_module_version": "1.2.0",
      "_view_name": "LayoutView",
      "align_content": null,
      "align_items": null,
      "align_self": null,
      "border": null,
      "bottom": null,
      "display": null,
      "flex": null,
      "flex_flow": null,
      "grid_area": null,
      "grid_auto_columns": null,
      "grid_auto_flow": null,
      "grid_auto_rows": null,
      "grid_column": null,
      "grid_gap": null,
      "grid_row": null,
      "grid_template_areas": null,
      "grid_template_columns": null,
      "grid_template_rows": null,
      "height": null,
      "justify_content": null,
      "justify_items": null,
      "left": null,
      "margin": null,
      "max_height": null,
      "max_width": null,
      "min_height": null,
      "min_width": null,
      "object_fit": null,
      "object_position": null,
      "order": null,
      "overflow": null,
      "overflow_x": null,
      "overflow_y": null,
      "padding": null,
      "right": null,
      "top": null,
      "visibility": null,
      "width": null
     }
    },
    "03c62d6f169f4702b8bfe218de2e1fb5": {
     "model_module": "@jupyter-widgets/controls",
     "model_name": "DescriptionStyleModel",
     "model_module_version": "1.5.0",
     "state": {
      "_model_module": "@jupyter-widgets/controls",
      "_model_module_version": "1.5.0",
      "_model_name": "DescriptionStyleModel",
      "_view_count": null,
      "_view_module": "@jupyter-widgets/base",
      "_view_module_version": "1.2.0",
      "_view_name": "StyleView",
      "description_width": ""
     }
    },
    "b5d951436cf34555a29d8c9937e52bcc": {
     "model_module": "@jupyter-widgets/base",
     "model_name": "LayoutModel",
     "model_module_version": "1.2.0",
     "state": {
      "_model_module": "@jupyter-widgets/base",
      "_model_module_version": "1.2.0",
      "_model_name": "LayoutModel",
      "_view_count": null,
      "_view_module": "@jupyter-widgets/base",
      "_view_module_version": "1.2.0",
      "_view_name": "LayoutView",
      "align_content": null,
      "align_items": null,
      "align_self": null,
      "border": null,
      "bottom": null,
      "display": null,
      "flex": null,
      "flex_flow": null,
      "grid_area": null,
      "grid_auto_columns": null,
      "grid_auto_flow": null,
      "grid_auto_rows": null,
      "grid_column": null,
      "grid_gap": null,
      "grid_row": null,
      "grid_template_areas": null,
      "grid_template_columns": null,
      "grid_template_rows": null,
      "height": null,
      "justify_content": null,
      "justify_items": null,
      "left": null,
      "margin": null,
      "max_height": null,
      "max_width": null,
      "min_height": null,
      "min_width": null,
      "object_fit": null,
      "object_position": null,
      "order": null,
      "overflow": null,
      "overflow_x": null,
      "overflow_y": null,
      "padding": null,
      "right": null,
      "top": null,
      "visibility": null,
      "width": null
     }
    },
    "8445a0e595a14333a3ac9fb160077af5": {
     "model_module": "@jupyter-widgets/controls",
     "model_name": "ProgressStyleModel",
     "model_module_version": "1.5.0",
     "state": {
      "_model_module": "@jupyter-widgets/controls",
      "_model_module_version": "1.5.0",
      "_model_name": "ProgressStyleModel",
      "_view_count": null,
      "_view_module": "@jupyter-widgets/base",
      "_view_module_version": "1.2.0",
      "_view_name": "StyleView",
      "bar_color": null,
      "description_width": ""
     }
    },
    "299e123a39f140c9909601aae5f25664": {
     "model_module": "@jupyter-widgets/base",
     "model_name": "LayoutModel",
     "model_module_version": "1.2.0",
     "state": {
      "_model_module": "@jupyter-widgets/base",
      "_model_module_version": "1.2.0",
      "_model_name": "LayoutModel",
      "_view_count": null,
      "_view_module": "@jupyter-widgets/base",
      "_view_module_version": "1.2.0",
      "_view_name": "LayoutView",
      "align_content": null,
      "align_items": null,
      "align_self": null,
      "border": null,
      "bottom": null,
      "display": null,
      "flex": null,
      "flex_flow": null,
      "grid_area": null,
      "grid_auto_columns": null,
      "grid_auto_flow": null,
      "grid_auto_rows": null,
      "grid_column": null,
      "grid_gap": null,
      "grid_row": null,
      "grid_template_areas": null,
      "grid_template_columns": null,
      "grid_template_rows": null,
      "height": null,
      "justify_content": null,
      "justify_items": null,
      "left": null,
      "margin": null,
      "max_height": null,
      "max_width": null,
      "min_height": null,
      "min_width": null,
      "object_fit": null,
      "object_position": null,
      "order": null,
      "overflow": null,
      "overflow_x": null,
      "overflow_y": null,
      "padding": null,
      "right": null,
      "top": null,
      "visibility": null,
      "width": null
     }
    },
    "0ca3d1fc28c249afa5b6aa4f54b843b9": {
     "model_module": "@jupyter-widgets/controls",
     "model_name": "DescriptionStyleModel",
     "model_module_version": "1.5.0",
     "state": {
      "_model_module": "@jupyter-widgets/controls",
      "_model_module_version": "1.5.0",
      "_model_name": "DescriptionStyleModel",
      "_view_count": null,
      "_view_module": "@jupyter-widgets/base",
      "_view_module_version": "1.2.0",
      "_view_name": "StyleView",
      "description_width": ""
     }
    },
    "7bdfe59d757a49948f013f33eb341480": {
     "model_module": "@jupyter-widgets/controls",
     "model_name": "HBoxModel",
     "model_module_version": "1.5.0",
     "state": {
      "_dom_classes": [],
      "_model_module": "@jupyter-widgets/controls",
      "_model_module_version": "1.5.0",
      "_model_name": "HBoxModel",
      "_view_count": null,
      "_view_module": "@jupyter-widgets/controls",
      "_view_module_version": "1.5.0",
      "_view_name": "HBoxView",
      "box_style": "",
      "children": [
       "IPY_MODEL_4d2bdec690b84069a8a5e79a96363cf9",
       "IPY_MODEL_bb571734acf34b1997727930d39e607d",
       "IPY_MODEL_ee3e058a0b6d433a9d1f3f851f78c586"
      ],
      "layout": "IPY_MODEL_ed7ab0a6599e4334ab4ad4072f9d7477"
     }
    },
    "4d2bdec690b84069a8a5e79a96363cf9": {
     "model_module": "@jupyter-widgets/controls",
     "model_name": "HTMLModel",
     "model_module_version": "1.5.0",
     "state": {
      "_dom_classes": [],
      "_model_module": "@jupyter-widgets/controls",
      "_model_module_version": "1.5.0",
      "_model_name": "HTMLModel",
      "_view_count": null,
      "_view_module": "@jupyter-widgets/controls",
      "_view_module_version": "1.5.0",
      "_view_name": "HTMLView",
      "description": "",
      "description_tooltip": null,
      "layout": "IPY_MODEL_b69900f8f35a4dd69c7ab12f31ef9a33",
      "placeholder": "​",
      "style": "IPY_MODEL_e71d9de15c19499e903143f118538c37",
      "value": "valid evaluation: 100%"
     }
    },
    "bb571734acf34b1997727930d39e607d": {
     "model_module": "@jupyter-widgets/controls",
     "model_name": "FloatProgressModel",
     "model_module_version": "1.5.0",
     "state": {
      "_dom_classes": [],
      "_model_module": "@jupyter-widgets/controls",
      "_model_module_version": "1.5.0",
      "_model_name": "FloatProgressModel",
      "_view_count": null,
      "_view_module": "@jupyter-widgets/controls",
      "_view_module_version": "1.5.0",
      "_view_name": "ProgressView",
      "bar_style": "success",
      "description": "",
      "description_tooltip": null,
      "layout": "IPY_MODEL_d29bfa8b7a7d4746b1ef98c5082c5782",
      "max": 106,
      "min": 0,
      "orientation": "horizontal",
      "style": "IPY_MODEL_884f8800e8af4973aede17b1777986a9",
      "value": 106
     }
    },
    "ee3e058a0b6d433a9d1f3f851f78c586": {
     "model_module": "@jupyter-widgets/controls",
     "model_name": "HTMLModel",
     "model_module_version": "1.5.0",
     "state": {
      "_dom_classes": [],
      "_model_module": "@jupyter-widgets/controls",
      "_model_module_version": "1.5.0",
      "_model_name": "HTMLModel",
      "_view_count": null,
      "_view_module": "@jupyter-widgets/controls",
      "_view_module_version": "1.5.0",
      "_view_name": "HTMLView",
      "description": "",
      "description_tooltip": null,
      "layout": "IPY_MODEL_39a2ed5530444406a65a8d4ce5c083d1",
      "placeholder": "​",
      "style": "IPY_MODEL_c49719a4ffd844bcb146ce70c54c6b6c",
      "value": " 106/106 [00:02&lt;00:00, 53.44it/s, ppl=219]"
     }
    },
    "ed7ab0a6599e4334ab4ad4072f9d7477": {
     "model_module": "@jupyter-widgets/base",
     "model_name": "LayoutModel",
     "model_module_version": "1.2.0",
     "state": {
      "_model_module": "@jupyter-widgets/base",
      "_model_module_version": "1.2.0",
      "_model_name": "LayoutModel",
      "_view_count": null,
      "_view_module": "@jupyter-widgets/base",
      "_view_module_version": "1.2.0",
      "_view_name": "LayoutView",
      "align_content": null,
      "align_items": null,
      "align_self": null,
      "border": null,
      "bottom": null,
      "display": null,
      "flex": null,
      "flex_flow": null,
      "grid_area": null,
      "grid_auto_columns": null,
      "grid_auto_flow": null,
      "grid_auto_rows": null,
      "grid_column": null,
      "grid_gap": null,
      "grid_row": null,
      "grid_template_areas": null,
      "grid_template_columns": null,
      "grid_template_rows": null,
      "height": null,
      "justify_content": null,
      "justify_items": null,
      "left": null,
      "margin": null,
      "max_height": null,
      "max_width": null,
      "min_height": null,
      "min_width": null,
      "object_fit": null,
      "object_position": null,
      "order": null,
      "overflow": null,
      "overflow_x": null,
      "overflow_y": null,
      "padding": null,
      "right": null,
      "top": null,
      "visibility": null,
      "width": null
     }
    },
    "b69900f8f35a4dd69c7ab12f31ef9a33": {
     "model_module": "@jupyter-widgets/base",
     "model_name": "LayoutModel",
     "model_module_version": "1.2.0",
     "state": {
      "_model_module": "@jupyter-widgets/base",
      "_model_module_version": "1.2.0",
      "_model_name": "LayoutModel",
      "_view_count": null,
      "_view_module": "@jupyter-widgets/base",
      "_view_module_version": "1.2.0",
      "_view_name": "LayoutView",
      "align_content": null,
      "align_items": null,
      "align_self": null,
      "border": null,
      "bottom": null,
      "display": null,
      "flex": null,
      "flex_flow": null,
      "grid_area": null,
      "grid_auto_columns": null,
      "grid_auto_flow": null,
      "grid_auto_rows": null,
      "grid_column": null,
      "grid_gap": null,
      "grid_row": null,
      "grid_template_areas": null,
      "grid_template_columns": null,
      "grid_template_rows": null,
      "height": null,
      "justify_content": null,
      "justify_items": null,
      "left": null,
      "margin": null,
      "max_height": null,
      "max_width": null,
      "min_height": null,
      "min_width": null,
      "object_fit": null,
      "object_position": null,
      "order": null,
      "overflow": null,
      "overflow_x": null,
      "overflow_y": null,
      "padding": null,
      "right": null,
      "top": null,
      "visibility": null,
      "width": null
     }
    },
    "e71d9de15c19499e903143f118538c37": {
     "model_module": "@jupyter-widgets/controls",
     "model_name": "DescriptionStyleModel",
     "model_module_version": "1.5.0",
     "state": {
      "_model_module": "@jupyter-widgets/controls",
      "_model_module_version": "1.5.0",
      "_model_name": "DescriptionStyleModel",
      "_view_count": null,
      "_view_module": "@jupyter-widgets/base",
      "_view_module_version": "1.2.0",
      "_view_name": "StyleView",
      "description_width": ""
     }
    },
    "d29bfa8b7a7d4746b1ef98c5082c5782": {
     "model_module": "@jupyter-widgets/base",
     "model_name": "LayoutModel",
     "model_module_version": "1.2.0",
     "state": {
      "_model_module": "@jupyter-widgets/base",
      "_model_module_version": "1.2.0",
      "_model_name": "LayoutModel",
      "_view_count": null,
      "_view_module": "@jupyter-widgets/base",
      "_view_module_version": "1.2.0",
      "_view_name": "LayoutView",
      "align_content": null,
      "align_items": null,
      "align_self": null,
      "border": null,
      "bottom": null,
      "display": null,
      "flex": null,
      "flex_flow": null,
      "grid_area": null,
      "grid_auto_columns": null,
      "grid_auto_flow": null,
      "grid_auto_rows": null,
      "grid_column": null,
      "grid_gap": null,
      "grid_row": null,
      "grid_template_areas": null,
      "grid_template_columns": null,
      "grid_template_rows": null,
      "height": null,
      "justify_content": null,
      "justify_items": null,
      "left": null,
      "margin": null,
      "max_height": null,
      "max_width": null,
      "min_height": null,
      "min_width": null,
      "object_fit": null,
      "object_position": null,
      "order": null,
      "overflow": null,
      "overflow_x": null,
      "overflow_y": null,
      "padding": null,
      "right": null,
      "top": null,
      "visibility": null,
      "width": null
     }
    },
    "884f8800e8af4973aede17b1777986a9": {
     "model_module": "@jupyter-widgets/controls",
     "model_name": "ProgressStyleModel",
     "model_module_version": "1.5.0",
     "state": {
      "_model_module": "@jupyter-widgets/controls",
      "_model_module_version": "1.5.0",
      "_model_name": "ProgressStyleModel",
      "_view_count": null,
      "_view_module": "@jupyter-widgets/base",
      "_view_module_version": "1.2.0",
      "_view_name": "StyleView",
      "bar_color": null,
      "description_width": ""
     }
    },
    "39a2ed5530444406a65a8d4ce5c083d1": {
     "model_module": "@jupyter-widgets/base",
     "model_name": "LayoutModel",
     "model_module_version": "1.2.0",
     "state": {
      "_model_module": "@jupyter-widgets/base",
      "_model_module_version": "1.2.0",
      "_model_name": "LayoutModel",
      "_view_count": null,
      "_view_module": "@jupyter-widgets/base",
      "_view_module_version": "1.2.0",
      "_view_name": "LayoutView",
      "align_content": null,
      "align_items": null,
      "align_self": null,
      "border": null,
      "bottom": null,
      "display": null,
      "flex": null,
      "flex_flow": null,
      "grid_area": null,
      "grid_auto_columns": null,
      "grid_auto_flow": null,
      "grid_auto_rows": null,
      "grid_column": null,
      "grid_gap": null,
      "grid_row": null,
      "grid_template_areas": null,
      "grid_template_columns": null,
      "grid_template_rows": null,
      "height": null,
      "justify_content": null,
      "justify_items": null,
      "left": null,
      "margin": null,
      "max_height": null,
      "max_width": null,
      "min_height": null,
      "min_width": null,
      "object_fit": null,
      "object_position": null,
      "order": null,
      "overflow": null,
      "overflow_x": null,
      "overflow_y": null,
      "padding": null,
      "right": null,
      "top": null,
      "visibility": null,
      "width": null
     }
    },
    "c49719a4ffd844bcb146ce70c54c6b6c": {
     "model_module": "@jupyter-widgets/controls",
     "model_name": "DescriptionStyleModel",
     "model_module_version": "1.5.0",
     "state": {
      "_model_module": "@jupyter-widgets/controls",
      "_model_module_version": "1.5.0",
      "_model_name": "DescriptionStyleModel",
      "_view_count": null,
      "_view_module": "@jupyter-widgets/base",
      "_view_module_version": "1.2.0",
      "_view_name": "StyleView",
      "description_width": ""
     }
    }
   }
  }
 },
 "cells": [
  {
   "cell_type": "markdown",
   "source": [
    "The following has been inspired by the following repositories:\n",
    "- [02456 Deep Learning @ DTU - Technical University of Denmark - awd-inspired-lstm](https://github.com/mikkelbrusen/awd-inspired-lstm)\n",
    "- [pytorch/examples](https://github.com/pytorch/examples)\n",
    "- [AWD-LSTM paper original code](https://github.com/salesforce/awd-lstm-lm)\n",
    "\n",
    "All the code has been written by hand and tested thoroughly."
   ],
   "metadata": {
    "id": "dyxMR6DynP5f",
    "pycharm": {
     "name": "#%% md\n"
    }
   }
  },
  {
   "metadata": {
    "id": "ioySkYZfx7PA",
    "pycharm": {
     "name": "#%% md\n"
    }
   },
   "cell_type": "markdown",
   "source": [
    "##### google colab"
   ]
  },
  {
   "metadata": {
    "id": "pImz6t2Ligxw",
    "colab": {
     "base_uri": "https://localhost:8080/"
    },
    "outputId": "f023dc60-9827-4123-e5b6-6cc6cef46ac4",
    "pycharm": {
     "name": "#%%\n"
    }
   },
   "cell_type": "code",
   "source": [
    "from google.colab import drive\n",
    "drive.mount('/content/drive', force_remount=True)\n",
    "\n",
    "!cp '/content/drive/My Drive/ptbdataset.zip' '/content'\n",
    "drive.flush_and_unmount()\n",
    "\n",
    "!unzip ptbdataset.zip"
   ],
   "execution_count": null,
   "outputs": [
    {
     "output_type": "stream",
     "name": "stdout",
     "text": [
      "Mounted at /content/drive\n",
      "Archive:  ptbdataset.zip\n",
      "  inflating: README                  \n",
      "  inflating: ptb.char.test.txt       \n",
      "  inflating: ptb.char.train.txt      \n",
      "  inflating: ptb.char.valid.txt      \n",
      "  inflating: ptb.test.txt            \n",
      "  inflating: ptb.train.txt           \n",
      "  inflating: ptb.valid.txt           \n"
     ]
    }
   ]
  },
  {
   "metadata": {
    "id": "9zQbaNkLh3FN",
    "pycharm": {
     "name": "#%% md\n"
    }
   },
   "cell_type": "markdown",
   "source": [
    "##### imports & params\n",
    "\n",
    "\n",
    "\n"
   ]
  },
  {
   "metadata": {
    "id": "mtulgShphXWT",
    "pycharm": {
     "name": "#%%\n"
    }
   },
   "cell_type": "code",
   "source": [
    "import argparse\n",
    "import time\n",
    "import math\n",
    "import os\n",
    "import torch\n",
    "import torch.nn as nn\n",
    "import torch.nn.functional as F\n",
    "import numpy as np\n",
    "from collections import Counter\n",
    "from tqdm.notebook import trange, tqdm\n",
    "\n",
    "import warnings\n",
    "warnings.filterwarnings('ignore')"
   ],
   "execution_count": null,
   "outputs": []
  },
  {
   "metadata": {
    "id": "ZmumaoCEh61G",
    "pycharm": {
     "name": "#%%\n"
    }
   },
   "cell_type": "code",
   "source": [
    "_cuda = torch.cuda.is_available()\n",
    "_device = torch.device('cuda' if torch.cuda.is_available() else 'cpu')\n",
    "\n",
    "#################\n",
    "# hyperparameters\n",
    "#################\n",
    "\n",
    "_train_batch_size = 20\n",
    "_bptt = 70  # sequence length - backpropagation through time window\n",
    "_embed_size = 400\n",
    "_hidden_size = 1150\n",
    "_num_layers = 3\n",
    "\n",
    "_num_epochs = 50\n",
    "_learning_rate = 30\n",
    "_ntasgd_n = 5  # after how many epochs should we use ASGD instead of SGD | 5\n",
    "\n",
    "_lock_dropout_input = 0.4  # locked dropout prob. on input | 0.4\n",
    "_lock_dropout_hidden = 0.25  # locked dropout prob. on hidden | 0.25\n",
    "_lock_dropout_output = 0.4  # locked dropout prob. on output | 0.4\n",
    "_embedding_dropout= 0.1  # embedding dropout prob. | 0.1\n",
    "_weight_dropout = 0.5  # variational dropout prob. | 0.5\n",
    "_gradient_clip = 0.25  # gradient clipping | 0.25\n",
    "_log_interval = 100  # how often should we evaluate during training\n",
    "\n",
    "_tie_weights = True  # tie embedding and softmax weight together or not\n",
    "\n",
    "_seed = 1  # fix seed for reproducibility\n",
    "np.random.seed(_seed)\n",
    "torch.manual_seed(_seed)\n",
    "if _cuda:\n",
    "  torch.cuda.manual_seed(_seed)\n",
    "\n",
    "_save = \"model_long_run.pt\"  # name of the saved best model"
   ],
   "execution_count": null,
   "outputs": []
  },
  {
   "metadata": {
    "id": "qA3L-WvsSHfi",
    "pycharm": {
     "name": "#%% md\n"
    }
   },
   "cell_type": "markdown",
   "source": [
    "##### load data"
   ]
  },
  {
   "metadata": {
    "id": "KHjT2i8oQ9xv",
    "pycharm": {
     "name": "#%%\n"
    }
   },
   "cell_type": "code",
   "source": [
    "class Dictionary(object):\n",
    "  def __init__(self):\n",
    "    self.word2idx = {}\n",
    "    self.idx2word = []\n",
    "    self.total = 0\n",
    "\n",
    "  def add_word(self, word):\n",
    "    if word not in self.word2idx:\n",
    "      self.idx2word.append(word)\n",
    "      self.word2idx[word] = len(self.idx2word) - 1\n",
    "    token_id = self.word2idx[word]\n",
    "    self.total += 1\n",
    "    return self.word2idx[word]\n",
    "\n",
    "  def __len__(self):\n",
    "    return len(self.idx2word)\n",
    "\n",
    "\n",
    "class Corpus(object):\n",
    "  def __init__(self):\n",
    "    self.dictionary = Dictionary()\n",
    "    self.train = self.tokenize('ptb.train.txt')\n",
    "    self.valid = self.tokenize('ptb.valid.txt')\n",
    "    self.test = self.tokenize('ptb.test.txt')\n",
    "\n",
    "  def tokenize(self, path):\n",
    "    with open(path, 'r') as f:\n",
    "      tokens = 0\n",
    "      for line in f:\n",
    "        words = line.split() + ['<eos>']\n",
    "        tokens += len(words)\n",
    "        for word in words:\n",
    "          self.dictionary.add_word(word)\n",
    "\n",
    "    with open(path, 'r') as f:\n",
    "      ids = torch.LongTensor(tokens)\n",
    "      token = 0\n",
    "      for line in f:\n",
    "        words = line.split() + ['<eos>']\n",
    "        for word in words:\n",
    "          ids[token] = self.dictionary.word2idx[word]\n",
    "          token += 1\n",
    "\n",
    "    return ids"
   ],
   "execution_count": null,
   "outputs": []
  },
  {
   "metadata": {
    "id": "z9wEHvYcgnPO",
    "pycharm": {
     "name": "#%% md\n"
    }
   },
   "cell_type": "markdown",
   "source": [
    "##### utils"
   ]
  },
  {
   "metadata": {
    "id": "Dl_pQuvugmWW",
    "pycharm": {
     "name": "#%%\n"
    }
   },
   "cell_type": "code",
   "source": [
    "# detach the hidden state so that the model does not backpropagate all the way to start of the dataset\n",
    "def detach_hidden(h):\n",
    "  if isinstance(h, torch.Tensor): return h.detach()\n",
    "  else: return tuple(detach_hidden(v) for v in h)\n",
    "\n",
    "\n",
    "# https://pytorch.org/tutorials/beginner/transformer_tutorial.html\n",
    "# creat batches of dataset with certain batch_size\n",
    "def batchify(data, batch_size):\n",
    "  seq_len = data.size(0) // batch_size\n",
    "  data = data[:seq_len * batch_size]  # remove extra elements that would not cleannly fit\n",
    "  data = data.view(batch_size, seq_len).t().contiguous()\n",
    "  return data.to(_device)\n",
    "\n",
    "\n",
    "def get_batch(source, i):\n",
    "  seq_len = min(_bptt, len(source) - 1 - i)\n",
    "  data = source[i:i+seq_len]\n",
    "  target = source[i+1:i+1+seq_len].reshape(-1)\n",
    "  return data, target\n",
    "\n",
    "\n",
    "def model_save(fn):\n",
    "  with open(fn, 'wb') as f:\n",
    "    torch.save({'state_dict': model.state_dict()}, f)\n",
    "\n",
    "\n",
    "def model_load(fn):\n",
    "  global model\n",
    "  with open(fn, 'rb') as f:\n",
    "    checkpoint = torch.load(f)\n",
    "    model.load_state_dict(checkpoint['state_dict'])"
   ],
   "execution_count": null,
   "outputs": []
  },
  {
   "metadata": {
    "id": "TxW3poQSyrQm",
    "pycharm": {
     "name": "#%% md\n"
    }
   },
   "cell_type": "markdown",
   "source": [
    "##### load and divide data"
   ]
  },
  {
   "metadata": {
    "id": "8jM-ww1fh5Vz",
    "pycharm": {
     "name": "#%%\n"
    }
   },
   "cell_type": "code",
   "source": [
    "eval_batch_size = 10\n",
    "test_batch_size = 10\n",
    "\n",
    "corpus = Corpus()\n",
    "\n",
    "train_data = batchify(corpus.train, _train_batch_size)\n",
    "val_data = batchify(corpus.valid, eval_batch_size)\n",
    "test_data = batchify(corpus.test, test_batch_size)"
   ],
   "execution_count": null,
   "outputs": []
  },
  {
   "metadata": {
    "id": "eju446s56I1y",
    "pycharm": {
     "name": "#%% md\n"
    }
   },
   "cell_type": "markdown",
   "source": [
    "##### functions"
   ]
  },
  {
   "cell_type": "markdown",
   "source": [
    "**embedding dropout**\n",
    "\n",
    "equivalent to performing dropout on the embedding matrix at a word level\n",
    "\n",
    "remaining non-dropped word embeddings are scaled by $\\frac{1}{1-p_e}$, where $p_e$ is the probability of dropout"
   ],
   "metadata": {
    "id": "sNHTrAIzCEcE",
    "pycharm": {
     "name": "#%% md\n"
    }
   }
  },
  {
   "metadata": {
    "id": "LLS2eCxM6MmE",
    "pycharm": {
     "name": "#%%\n"
    }
   },
   "cell_type": "code",
   "source": [
    "def embedded_dropout(embed, words, dropout=0.1):\n",
    "  mask = embed.weight.data.new().resize_((embed.weight.size(0), 1))  # create new tensor with equal size\n",
    "  mask = mask.bernoulli_(1 - dropout)  # sample bernoulli distribution\n",
    "  mask = mask.expand_as(embed.weight) / (1 - dropout)  # scale remaining data\n",
    "  masked_embed_weight = mask * embed.weight  # apply dropout mask to the embedding\n",
    "\n",
    "  padding_idx = embed.padding_idx\n",
    "  if padding_idx is None:\n",
    "    padding_idx = -1\n",
    "\n",
    "  X = torch.nn.functional.embedding(words, masked_embed_weight,\n",
    "    padding_idx, embed.max_norm, embed.norm_type,\n",
    "    embed.scale_grad_by_freq, embed.sparse)\n",
    "  return X"
   ],
   "execution_count": null,
   "outputs": []
  },
  {
   "cell_type": "markdown",
   "source": [
    "**weight dropout**\n",
    "\n",
    "apply dropout on the weights rather that the activations"
   ],
   "metadata": {
    "id": "ao22-0M9xyFX",
    "pycharm": {
     "name": "#%% md\n"
    }
   }
  },
  {
   "cell_type": "code",
   "source": [
    "class WeightDropout(nn.Module):\n",
    "  def __init__(self, module, weights, dropout=0):\n",
    "    super(WeightDropout, self).__init__()\n",
    "    self.module = module\n",
    "    self.weights = weights\n",
    "    self.dropout = dropout\n",
    "    self._setup()\n",
    "\n",
    "  def dummy(*args, **kwargs):\n",
    "    return\n",
    "\n",
    "  def _setup(self):\n",
    "    if issubclass(type(self.module), torch.nn.RNNBase):\n",
    "      self.module.flatten_parameters = self.dummy\n",
    "\n",
    "    for name_w in self.weights:\n",
    "      print(f'apply weight drop of {self.dropout} to {name_w}')\n",
    "      w = getattr(self.module, name_w)\n",
    "      del self.module._parameters[name_w]\n",
    "      self.module.register_parameter(name_w + '_raw', nn.Parameter(w.data))\n",
    "\n",
    "  def _setweights(self):\n",
    "    for name_w in self.weights:\n",
    "      raw_w = getattr(self.module, name_w + '_raw')\n",
    "      w = None\n",
    "      w = torch.nn.Parameter(torch.nn.functional.dropout(raw_w, p=self.dropout, training=self.training))\n",
    "      setattr(self.module, name_w, w)\n",
    "\n",
    "  def forward(self, *args):\n",
    "    self._setweights()\n",
    "    return self.module.forward(*args)"
   ],
   "metadata": {
    "id": "0RceM1hNx4KR",
    "pycharm": {
     "name": "#%%\n"
    }
   },
   "execution_count": null,
   "outputs": []
  },
  {
   "metadata": {
    "id": "dtvF5O0s1-Sp",
    "pycharm": {
     "name": "#%% md\n"
    }
   },
   "cell_type": "markdown",
   "source": [
    "**locked dropout**\n",
    "\n",
    "sample binary mask only once upon first call, then use that locked dropout mask\n",
    "\n",
    "used to apply the same dropout mask every time step"
   ]
  },
  {
   "metadata": {
    "id": "xh6XT3-8xPJp",
    "pycharm": {
     "name": "#%%\n"
    }
   },
   "cell_type": "code",
   "source": [
    "class LockedDropout(nn.Module):\n",
    "  def __init__(self):\n",
    "    super().__init__()\n",
    "\n",
    "  def forward(self, x, dropout=0.5):\n",
    "    if not self.training or not dropout:\n",
    "      return x\n",
    "    m = x.data.new(1, x.size(1), x.size(2)).bernoulli_(1 - dropout)\n",
    "    mask = m.clone().detach() / (1 - dropout)\n",
    "    mask = mask.expand_as(x)\n",
    "    return mask * x"
   ],
   "execution_count": null,
   "outputs": []
  },
  {
   "cell_type": "markdown",
   "source": [
    "**LSTM module**"
   ],
   "metadata": {
    "id": "4E5yC35mCsAP",
    "pycharm": {
     "name": "#%% md\n"
    }
   }
  },
  {
   "cell_type": "code",
   "source": [
    "class LSTMModel(nn.Module):\n",
    "  def __init__(self, num_tokens, hidden_size, embed_size, output_size, dropout=0.5, n_layers=1, wdrop=0, dropouth=0.5, dropouti=0.5, dropoute=0.1, tie_weights=False):\n",
    "    super(LSTMModel, self).__init__()\n",
    "    self.embed_size = embed_size\n",
    "    self.hidden_size = hidden_size\n",
    "    self.n_layers = n_layers\n",
    "        \n",
    "    self.tie_weights = tie_weights\n",
    "    self.lockdrop = LockedDropout()\n",
    "    self.dropouti = dropouti\n",
    "    self.dropouth = dropouth\n",
    "    self.dropoute = dropoute\n",
    "    self.dropout = dropout\n",
    "    self.encoder = nn.Embedding(num_tokens, embed_size)\n",
    "        \n",
    "    self.lstms = []\n",
    "        \n",
    "    for layer_idx in range(n_layers):\n",
    "      if layer_idx == 0: layer_input_size = embed_size\n",
    "      else: layer_input_size = hidden_size\n",
    "      if layer_idx != n_layers-1: layer_output_size = hidden_size\n",
    "      else: layer_output_size = (embed_size if tie_weights else hidden_size)\n",
    "      self.lstms.append(nn.LSTM(layer_input_size, layer_output_size, num_layers=1))\n",
    "    if wdrop:\n",
    "      self.lstms = [WeightDropout(lstm, ['weight_hh_l0'], dropout=wdrop) for lstm in self.lstms]\n",
    "    self.lstms = nn.ModuleList(self.lstms)\n",
    "        \n",
    "    self.decoder = nn.Linear(embed_size if tie_weights else hidden_size, output_size)\n",
    "        \n",
    "    if tie_weights:\n",
    "      self.decoder.weight = self.encoder.weight\n",
    "          \n",
    "    initrange = 0.1\n",
    "    self.encoder.weight.data.uniform_(-initrange, initrange)\n",
    "    self.decoder.bias.data.zero_()\n",
    "    self.decoder.weight.data.uniform_(-initrange, initrange)\n",
    "\n",
    "  def forward(self, inp, hidden):\n",
    "    emb = embedded_dropout(self.encoder, inp, dropout=self.dropoute if self.training else 0)\n",
    "    emb = self.lockdrop(emb, self.dropouti)\n",
    "        \n",
    "    new_hidden = []\n",
    "    outputs = []\n",
    "    output = emb\n",
    "    for i, lstm in enumerate(self.lstms): \n",
    "      output, new_hid = lstm(output, hidden[i])\n",
    "            \n",
    "      new_hidden.append(new_hid)\n",
    "      if i != self.n_layers-1:\n",
    "        output = self.lockdrop(output, self.dropouth)\n",
    "        \n",
    "    hidden = new_hidden\n",
    "    output = self.lockdrop(output, self.dropout)\n",
    "   \n",
    "    decoded = self.decoder(output.view(output.size(0)*output.size(1), output.size(2)))\n",
    "    decoded = decoded.view(output.size(0), output.size(1), decoded.size(1))\n",
    "    return decoded, hidden\n",
    "\n",
    "  def init_hidden(self,bsz):\n",
    "    weight = next(self.parameters()).data\n",
    "    return [(weight.new(1, bsz, self.hidden_size if l != self.n_layers - 1 else (self.embed_size if self.tie_weights else self.hidden_size)).zero_(),\n",
    "            weight.new(1, bsz, self.hidden_size if l != self.n_layers - 1 else (self.embed_size if self.tie_weights else self.hidden_size)).zero_())\n",
    "            for l in range(self.n_layers)]"
   ],
   "metadata": {
    "id": "wr0FEyimCvKj",
    "pycharm": {
     "name": "#%%\n"
    }
   },
   "execution_count": null,
   "outputs": []
  },
  {
   "cell_type": "markdown",
   "source": [
    "evaluate"
   ],
   "metadata": {
    "id": "4s58CzYzDcPr",
    "pycharm": {
     "name": "#%% md\n"
    }
   }
  },
  {
   "cell_type": "code",
   "source": [
    "def evaluate(data_source, name='train'):\n",
    "  # Turn on evaluation mode which disables dropout.\n",
    "  model.eval()\n",
    "  total_loss = 0.\n",
    "  ntokens = len(corpus.dictionary)\n",
    "  hidden = model.init_hidden(test_batch_size)\n",
    "  with torch.no_grad():\n",
    "    with tqdm(range(0, data_source.size(0) - 1, _bptt), desc=f'{name} evaluation', total=(len(data_source)//_bptt)+1) as tqdm_:\n",
    "      for i in tqdm_:\n",
    "        data, targets = get_batch(data_source, i)\n",
    "        output, hidden = model(data, hidden)\n",
    "        output_flat = output.view(-1, ntokens)\n",
    "        total_loss += len(data) * criterion(output_flat, targets).item()\n",
    "        hidden = detach_hidden(hidden)\n",
    "        if (i*_bptt) % _log_interval == 0 and (i*_bptt) > 0:\n",
    "          tqdm_.set_postfix({'ppl':math.exp(total_loss / (len(data_source) - 1))})\n",
    "  return total_loss / (len(data_source) - 1)"
   ],
   "metadata": {
    "id": "h_HVkeVYDb6U",
    "pycharm": {
     "name": "#%%\n"
    }
   },
   "execution_count": null,
   "outputs": []
  },
  {
   "cell_type": "markdown",
   "source": [
    "train"
   ],
   "metadata": {
    "id": "Yu06DdjoDedm",
    "pycharm": {
     "name": "#%% md\n"
    }
   }
  },
  {
   "cell_type": "code",
   "source": [
    "def train(epoch):\n",
    "  # Turn on training mode which enables dropout.\n",
    "  model.train()\n",
    "  total_loss = 0.\n",
    "  start_time = time.time()\n",
    "  ntokens = len(corpus.dictionary)\n",
    "  hidden = model.init_hidden(_train_batch_size)\n",
    "  with tqdm(enumerate(range(0, train_data.size(0) - 1, _bptt)), desc=f'epoch: {epoch}', total=(len(train_data)//_bptt)+1) as tqdm_:\n",
    "    for batch, i in tqdm_:\n",
    "      data, targets = get_batch(train_data, i)\n",
    "      hidden = detach_hidden(hidden)\n",
    "      optimizer.zero_grad()\n",
    "      output, hidden = model(data, hidden)\n",
    "\n",
    "      loss = criterion(output.view(-1, ntokens), targets)\n",
    "      loss.backward()\n",
    "\n",
    "      # `clip_grad_norm` helps prevent the exploding gradient problem in RNNs / LSTMs.\n",
    "      torch.nn.utils.clip_grad_norm_(model.parameters(), _gradient_clip)\n",
    "      optimizer.step()\n",
    "\n",
    "      total_loss += loss.item()\n",
    "\n",
    "      if batch % _log_interval == 0 and batch > 0:\n",
    "        cur_loss = total_loss / _log_interval\n",
    "        tqdm_.set_postfix({'lr':_learning_rate, 'loss':cur_loss, 'ppl':math.exp(cur_loss)})\n",
    "        total_loss = 0"
   ],
   "metadata": {
    "id": "eUG8qta-DZiP",
    "pycharm": {
     "name": "#%%\n"
    }
   },
   "execution_count": null,
   "outputs": []
  },
  {
   "metadata": {
    "id": "PH3dQqwjiXP5",
    "pycharm": {
     "name": "#%% md\n"
    }
   },
   "cell_type": "markdown",
   "source": [
    "##### define model and loss function"
   ]
  },
  {
   "metadata": {
    "id": "CAAf3g95JigU",
    "colab": {
     "base_uri": "https://localhost:8080/"
    },
    "outputId": "d307c2ca-fca7-480a-fa07-88dac4e16928",
    "pycharm": {
     "name": "#%%\n"
    }
   },
   "cell_type": "code",
   "source": [
    "ntokens = len(corpus.dictionary)\n",
    "\n",
    "model = LSTMModel(ntokens, _hidden_size, _embed_size, ntokens, _lock_dropout_output, _num_layers, _weight_dropout, _lock_dropout_hidden, _lock_dropout_input, _embedding_dropout, _tie_weights).to(_device)\n",
    "criterion = nn.CrossEntropyLoss()"
   ],
   "execution_count": null,
   "outputs": [
    {
     "output_type": "stream",
     "name": "stdout",
     "text": [
      "apply weight drop of 0.5 to weight_hh_l0\n",
      "apply weight drop of 0.5 to weight_hh_l0\n",
      "apply weight drop of 0.5 to weight_hh_l0\n"
     ]
    }
   ]
  },
  {
   "metadata": {
    "id": "mXCZzJmHkRFy",
    "pycharm": {
     "name": "#%% md\n"
    }
   },
   "cell_type": "markdown",
   "source": [
    "##### do actual training"
   ]
  },
  {
   "metadata": {
    "id": "IXolA9BNj9JG",
    "outputId": "1537a89c-72aa-4bb8-a10a-8d769d224ce2",
    "colab": {
     "base_uri": "https://localhost:8080/",
     "height": 145,
     "referenced_widgets": [
      "4dff330a2d404f05855558bce815664d",
      "eb859afe621643eabd32bab5401e190c",
      "b62ded36b5f7445b9d4b69d2db1ecc67",
      "b47124388aa640b09ed8d9538a514639",
      "8dd0af22fd2041f68b0e6db275bd7a50",
      "f2d894111c294ea3aefc81cadab1ebbe",
      "4112c2ce642046558d7e56bec83a57db",
      "8ba5a1e1d3e34c04a4353b4a78d33915",
      "68a69e511a0d43d4b0c3853eda60a019",
      "83d6001aa20d4dc09e29f44234862c35",
      "5c8872997ab747a39cc9859df6050016",
      "b890a946e49a4dde87b218b49ac37629",
      "d3993e6485ee4ceeaed695970a936497",
      "097771cbefdb4f40adabe38b47e61428",
      "89dd60969d454ed0b8415da213beddad",
      "c804af3a50574ba39087bd5b69570cfb",
      "f67b04efae6a4660ade88533a8a9e687",
      "c98ecbdf78d843ae9aaf4927e9ea7536",
      "ddaf66fb2bec4fc185f95bca8f52bb08",
      "48ea3633c000480f9e60b96b1c867cbb",
      "c45ff1de95c94d89bb03bb40ecd99d41",
      "87e1c65675ed4aefbdabb97ac25072ef",
      "becd6c9f78704352a4ba30afb4d08212",
      "4b6e09eac40944d7baf42f7c88e2abed",
      "fad2e8a965734b249b7f585d277ce044",
      "a32181c1b09d4a6b891148c3a31780b0",
      "9baf45f27b754ff18c1d1c2192276ce4",
      "020fdfdcc1474b85a94f11a66623141c",
      "03c62d6f169f4702b8bfe218de2e1fb5",
      "b5d951436cf34555a29d8c9937e52bcc",
      "8445a0e595a14333a3ac9fb160077af5",
      "299e123a39f140c9909601aae5f25664",
      "0ca3d1fc28c249afa5b6aa4f54b843b9",
      "7bdfe59d757a49948f013f33eb341480",
      "4d2bdec690b84069a8a5e79a96363cf9",
      "bb571734acf34b1997727930d39e607d",
      "ee3e058a0b6d433a9d1f3f851f78c586",
      "ed7ab0a6599e4334ab4ad4072f9d7477",
      "b69900f8f35a4dd69c7ab12f31ef9a33",
      "e71d9de15c19499e903143f118538c37",
      "d29bfa8b7a7d4746b1ef98c5082c5782",
      "884f8800e8af4973aede17b1777986a9",
      "39a2ed5530444406a65a8d4ce5c083d1",
      "c49719a4ffd844bcb146ce70c54c6b6c"
     ]
    },
    "pycharm": {
     "name": "#%%\n"
    }
   },
   "cell_type": "code",
   "source": [
    "best_val_loss = 100000000\n",
    "stored_losses = []\n",
    "\n",
    "optimizer = torch.optim.SGD(model.parameters(), lr=_learning_rate)\n",
    "for epoch in range(1, _num_epochs+1):\n",
    "  epoch_start_time = time.time()\n",
    "  train(epoch)\n",
    "  if 't0' in optimizer.param_groups[0]:  # if ASGD\n",
    "    tmp = {}\n",
    "    for prm in model.parameters():\n",
    "      tmp[prm] = prm.data.clone()\n",
    "      if 'ax' in optimizer.state[prm]:\n",
    "        prm.data = optimizer.state[prm]['ax'].clone()\n",
    "\n",
    "    val_loss = evaluate(val_data)\n",
    "\n",
    "    if val_loss < best_val_loss:\n",
    "      model_save(_save)\n",
    "      best_val_loss = val_loss\n",
    "\n",
    "    nparams = 0\n",
    "    nparams_in_temp_keys = 0\n",
    "    for prm in model.parameters():\n",
    "      nparams += 1\n",
    "      if prm in tmp.keys():\n",
    "        nparams_in_temp_keys += 1\n",
    "        prm.data = tmp[prm].clone()\n",
    "\n",
    "  else:\n",
    "    val_loss = evaluate(val_data, 'valid')\n",
    "\n",
    "    if val_loss < best_val_loss:\n",
    "      'new best validation result - saving model'\n",
    "      model_save(_save)\n",
    "      best_val_loss = val_loss\n",
    "            \n",
    "    elif len(stored_losses) > _ntasgd_n and val_loss > min(stored_losses[:-_ntasgd_n]):\n",
    "      print('switching to ASGD')\n",
    "      optimizer = torch.optim.ASGD(model.parameters(), lr=_learning_rate, t0=0, lambd=0.)\n",
    "\n",
    "  stored_losses.append(val_loss)"
   ],
   "execution_count": null,
   "outputs": [
    {
     "output_type": "display_data",
     "data": {
      "text/plain": [
       "epoch: 1:   0%|          | 0/664 [00:00<?, ?it/s]"
      ],
      "application/vnd.jupyter.widget-view+json": {
       "version_major": 2,
       "version_minor": 0,
       "model_id": "4dff330a2d404f05855558bce815664d"
      }
     },
     "metadata": {}
    },
    {
     "output_type": "display_data",
     "data": {
      "text/plain": [
       "valid evaluation:   0%|          | 0/106 [00:00<?, ?it/s]"
      ],
      "application/vnd.jupyter.widget-view+json": {
       "version_major": 2,
       "version_minor": 0,
       "model_id": "b890a946e49a4dde87b218b49ac37629"
      }
     },
     "metadata": {}
    },
    {
     "output_type": "display_data",
     "data": {
      "text/plain": [
       "epoch: 2:   0%|          | 0/664 [00:00<?, ?it/s]"
      ],
      "application/vnd.jupyter.widget-view+json": {
       "version_major": 2,
       "version_minor": 0,
       "model_id": "becd6c9f78704352a4ba30afb4d08212"
      }
     },
     "metadata": {}
    },
    {
     "output_type": "display_data",
     "data": {
      "text/plain": [
       "valid evaluation:   0%|          | 0/106 [00:00<?, ?it/s]"
      ],
      "application/vnd.jupyter.widget-view+json": {
       "version_major": 2,
       "version_minor": 0,
       "model_id": "7bdfe59d757a49948f013f33eb341480"
      }
     },
     "metadata": {}
    }
   ]
  },
  {
   "metadata": {
    "id": "FqHtDk-4kUor",
    "pycharm": {
     "name": "#%% md\n"
    }
   },
   "cell_type": "markdown",
   "source": [
    "open the best saved model run it on the test data"
   ]
  },
  {
   "metadata": {
    "id": "3rP_dOtpkCTX",
    "pycharm": {
     "name": "#%%\n"
    }
   },
   "cell_type": "code",
   "source": [
    "# Load the best saved model.\n",
    "model_load(_save)\n",
    "\n",
    "test_loss = evaluate(test_data)\n",
    "print(f'test ppl based on best validation results: {math.exp(test_loss)}')"
   ],
   "execution_count": null,
   "outputs": []
  },
  {
   "cell_type": "code",
   "source": [
    "with open('model_long_run.npy', 'wb') as f:\n",
    "    np.save(f, np.array(stored_losses))"
   ],
   "metadata": {
    "id": "gvvT0yAyH9hF",
    "pycharm": {
     "name": "#%%\n"
    }
   },
   "execution_count": null,
   "outputs": []
  },
  {
   "cell_type": "code",
   "source": [
    "from google.colab import drive\n",
    "drive.mount('/content/drive', force_remount=True)\n",
    "\n",
    "!cp  '/content/model_long_run.pt' '/content/drive/My Drive/'\n",
    "!cp  '/content/model_long_run.npy' '/content/drive/My Drive/'\n",
    "\n",
    "drive.flush_and_unmount()"
   ],
   "metadata": {
    "id": "wxMY6dcG8DTS",
    "pycharm": {
     "name": "#%%\n"
    }
   },
   "execution_count": null,
   "outputs": []
  },
  {
   "cell_type": "code",
   "source": [
    "with open('model_long_run.npy', 'rb') as f:\n",
    "  temp = list(np.load(f))"
   ],
   "metadata": {
    "id": "80tizCBJ8fmf",
    "pycharm": {
     "name": "#%%\n"
    }
   },
   "execution_count": null,
   "outputs": []
  },
  {
   "cell_type": "markdown",
   "source": [
    "---"
   ],
   "metadata": {
    "id": "AaiwXg10bzL1",
    "pycharm": {
     "name": "#%% md\n"
    }
   }
  }
 ]
}